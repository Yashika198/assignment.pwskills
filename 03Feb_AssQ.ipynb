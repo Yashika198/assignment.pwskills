{
 "cells": [
  {
   "cell_type": "markdown",
   "id": "8ffaab04-9c05-4ce7-821f-2c81a7b4c584",
   "metadata": {},
   "source": [
    "Question 1"
   ]
  },
  {
   "cell_type": "code",
   "execution_count": 1,
   "id": "137f827b-a4eb-424b-a8c4-a977ddd9bf8a",
   "metadata": {},
   "outputs": [],
   "source": [
    "\"\"\"def keyword is used to create a function.\"\"\"\n",
    "##function to return a list of odd numbers\n",
    "def odd_nos():\n",
    "    l1=[]\n",
    "    lst=list(range(1,26))\n",
    "    for i in lst:\n",
    "        if i %2!=0:\n",
    "            l1.append(i)\n",
    "    return l1"
   ]
  },
  {
   "cell_type": "code",
   "execution_count": 2,
   "id": "86d15e19-9963-4483-934c-9ffa5e701619",
   "metadata": {},
   "outputs": [
    {
     "data": {
      "text/plain": [
       "[1, 3, 5, 7, 9, 11, 13, 15, 17, 19, 21, 23, 25]"
      ]
     },
     "execution_count": 2,
     "metadata": {},
     "output_type": "execute_result"
    }
   ],
   "source": [
    "odd_nos()"
   ]
  },
  {
   "cell_type": "markdown",
   "id": "44d9285a-c936-41c4-aee0-37e0e2318a70",
   "metadata": {},
   "source": [
    "Question 2 "
   ]
  },
  {
   "cell_type": "code",
   "execution_count": 4,
   "id": "f0b06572-3f75-431b-8dc2-1da20a5f8a25",
   "metadata": {},
   "outputs": [
    {
     "data": {
      "text/plain": [
       "'We use *args and **kwargs  as arguments in function when we are unsure about the number of arguments to be passed in the functions'"
      ]
     },
     "execution_count": 4,
     "metadata": {},
     "output_type": "execute_result"
    }
   ],
   "source": [
    "\"\"\"We use *args and **kwargs  as arguments in function when we are unsure about the number of arguments to be passed in the functions\"\"\""
   ]
  },
  {
   "cell_type": "code",
   "execution_count": 6,
   "id": "0949a5e1-bd4a-4a9b-bbc3-9ba8bdd2ae5a",
   "metadata": {},
   "outputs": [
    {
     "data": {
      "text/plain": [
       "'These allow us to pass variable number of arguments. But these are not fixed keywords.'"
      ]
     },
     "execution_count": 6,
     "metadata": {},
     "output_type": "execute_result"
    }
   ],
   "source": [
    "\"\"\"These allow us to pass variable number of arguments. But these are not fixed keywords.\"\"\""
   ]
  },
  {
   "cell_type": "code",
   "execution_count": 14,
   "id": "0a2cc63b-685b-44d9-9cae-1932bab996b4",
   "metadata": {},
   "outputs": [],
   "source": [
    "##for example\n",
    "def add_func(*args):\n",
    "    sum=0\n",
    "    for i in args:\n",
    "        sum=sum+i\n",
    "    print(\"Sum=\",sum)"
   ]
  },
  {
   "cell_type": "code",
   "execution_count": 15,
   "id": "eb0546ad-3b37-4582-aebc-36b3998bb019",
   "metadata": {},
   "outputs": [
    {
     "name": "stdout",
     "output_type": "stream",
     "text": [
      "Sum= 16\n"
     ]
    }
   ],
   "source": [
    " add_func(4,5,7)"
   ]
  },
  {
   "cell_type": "code",
   "execution_count": 19,
   "id": "0226106e-53b0-4c87-9a5e-9b42864fadf6",
   "metadata": {},
   "outputs": [],
   "source": [
    "##for example\n",
    "def prin_func(**kwargs):\n",
    "    for i,j in kwargs.items():\n",
    "        print(i,j)\n",
    "              "
   ]
  },
  {
   "cell_type": "code",
   "execution_count": 20,
   "id": "d5a5f5eb-8a5b-415f-bae1-60077b6ab91f",
   "metadata": {},
   "outputs": [
    {
     "name": "stdout",
     "output_type": "stream",
     "text": [
      "a kishore\n",
      "b shyam\n",
      "c ram\n"
     ]
    }
   ],
   "source": [
    "prin_func(a=\"kishore\",b=\"shyam\",c=\"ram\")"
   ]
  },
  {
   "cell_type": "markdown",
   "id": "a035a94e-4307-47e6-8953-e123a63a21a0",
   "metadata": {},
   "source": [
    "Question 3"
   ]
  },
  {
   "cell_type": "code",
   "execution_count": 21,
   "id": "791b40aa-b9db-4cb1-b305-5abab00faab3",
   "metadata": {},
   "outputs": [
    {
     "data": {
      "text/plain": [
       "'An iterator in python is used to iterate over iterable objects like lists,tuples,strings and dictionaries.\\nthe iter() method is used to initialise the iterator object.The next() method is used for iteration.'"
      ]
     },
     "execution_count": 21,
     "metadata": {},
     "output_type": "execute_result"
    }
   ],
   "source": [
    "\"\"\"An iterator in python is used to iterate over iterable objects like lists,tuples,strings and dictionaries.\n",
    "the iter() method is used to initialise the iterator object.The next() method is used for iteration.\"\"\""
   ]
  },
  {
   "cell_type": "code",
   "execution_count": 22,
   "id": "1af94250-f460-4ce8-a745-4eb1e1b1770d",
   "metadata": {},
   "outputs": [
    {
     "name": "stdout",
     "output_type": "stream",
     "text": [
      "2\n",
      "4\n",
      "6\n",
      "8\n",
      "10\n"
     ]
    }
   ],
   "source": [
    "l1=[2,4,6,8,10,12,14,16,18,20]\n",
    "lst=iter(l1)\n",
    "for i in range(5):\n",
    "    print(next(lst))"
   ]
  },
  {
   "cell_type": "markdown",
   "id": "391df135-426f-403a-a00c-f7d19dd2ed1c",
   "metadata": {},
   "source": [
    "Question 4"
   ]
  },
  {
   "cell_type": "code",
   "execution_count": 1,
   "id": "290cc81a-3775-4d01-a32c-c7b6db7517cc",
   "metadata": {},
   "outputs": [
    {
     "data": {
      "text/plain": [
       "'Generator is a function that returns an iterator which produces a sequence of values when\\niterated over.These functions are useful when we want to produce a large sequence of values but \\ndo not want to store all of them in memory at once.'"
      ]
     },
     "execution_count": 1,
     "metadata": {},
     "output_type": "execute_result"
    }
   ],
   "source": [
    "\"\"\"Generator is a function that returns an iterator which produces a sequence of values when\n",
    "iterated over.These functions are useful when we want to produce a large sequence of values but \n",
    "do not want to store all of them in memory at once.\"\"\""
   ]
  },
  {
   "cell_type": "code",
   "execution_count": 2,
   "id": "069328fe-d870-42da-9c2e-df8cd6cd92d9",
   "metadata": {},
   "outputs": [
    {
     "data": {
      "text/plain": [
       "'Yield keyword is very similar to return. Yield keyword is used to produce a value from the generator.\\nThe key difference between return and yield is that return terminates the execution while yield pauses\\nthe execution until the next value is requested.'"
      ]
     },
     "execution_count": 2,
     "metadata": {},
     "output_type": "execute_result"
    }
   ],
   "source": [
    "\"\"\"Yield keyword is very similar to return. Yield keyword is used to produce a value from the generator.\n",
    "The key difference between return and yield is that return terminates the execution while yield pauses\n",
    "the execution until the next value is requested.\"\"\""
   ]
  },
  {
   "cell_type": "code",
   "execution_count": 9,
   "id": "6313ef26-75fa-42c4-9e98-545c95b1fde1",
   "metadata": {},
   "outputs": [],
   "source": [
    "##Example of generator function\n",
    "def squares_list():\n",
    "    ##Example of generator function\n",
    "    lst=list(range(1,26))\n",
    "    for i in lst:\n",
    "        yield i*i\n",
    " "
   ]
  },
  {
   "cell_type": "code",
   "execution_count": 10,
   "id": "aed3e93a-72b3-480a-aac2-fe9f348dfd97",
   "metadata": {},
   "outputs": [
    {
     "data": {
      "text/plain": [
       "<generator object squares_list at 0x7f3fbc4b3b50>"
      ]
     },
     "execution_count": 10,
     "metadata": {},
     "output_type": "execute_result"
    }
   ],
   "source": [
    "squares_list()"
   ]
  },
  {
   "cell_type": "code",
   "execution_count": 12,
   "id": "9e1e884c-07b5-4cbd-8d75-462db3429b26",
   "metadata": {},
   "outputs": [
    {
     "name": "stdout",
     "output_type": "stream",
     "text": [
      "1\n",
      "4\n",
      "9\n",
      "16\n",
      "25\n",
      "36\n",
      "49\n",
      "64\n",
      "81\n",
      "100\n",
      "121\n",
      "144\n",
      "169\n",
      "196\n",
      "225\n",
      "256\n",
      "289\n",
      "324\n",
      "361\n",
      "400\n",
      "441\n",
      "484\n",
      "529\n",
      "576\n",
      "625\n"
     ]
    }
   ],
   "source": [
    "it=squares_list()\n",
    "for n in range(25):\n",
    "    print(next(it))"
   ]
  },
  {
   "cell_type": "markdown",
   "id": "eeb0747a-81c9-467a-a5a4-50fe1313fd13",
   "metadata": {},
   "source": [
    "Question 5"
   ]
  },
  {
   "cell_type": "code",
   "execution_count": 13,
   "id": "f7b119bc-5314-49d5-af43-5ebf1ccfc688",
   "metadata": {},
   "outputs": [
    {
     "name": "stdout",
     "output_type": "stream",
     "text": [
      "2\n",
      "3\n",
      "5\n",
      "7\n",
      "11\n",
      "13\n",
      "17\n",
      "19\n",
      "23\n",
      "29\n",
      "31\n",
      "37\n",
      "41\n",
      "43\n",
      "47\n",
      "53\n",
      "59\n",
      "61\n",
      "67\n",
      "71\n"
     ]
    }
   ],
   "source": [
    "##Generator Function for prime numbers less than 1000\n",
    "def isPrime(num):\n",
    "    for j in range(2,1000):\n",
    "        for i in range(2,num):\n",
    "            if num%i==0:\n",
    "                return  False\n",
    "        return True\n",
    "def gen_prime_nos(n):\n",
    "    num=2\n",
    "    while n:\n",
    "            if isPrime(num):\n",
    "                yield num   \n",
    "                n-=1\n",
    "            num+=1\n",
    "    return\n",
    "it=gen_prime_nos(20)\n",
    "for n in range(20):\n",
    "    print(next(it))"
   ]
  },
  {
   "cell_type": "markdown",
   "id": "10ce1741-93a8-4f5b-b3d8-456014492efa",
   "metadata": {},
   "source": [
    "Question 6"
   ]
  },
  {
   "cell_type": "code",
   "execution_count": null,
   "id": "6be4aaf3-b861-4068-bb95-eecbcc39b962",
   "metadata": {},
   "outputs": [
    {
     "name": "stdout",
     "output_type": "stream",
     "text": [
      "Fibonacci series is\n",
      "0\n",
      "1\n",
      "1\n",
      "2\n",
      "3\n",
      "5\n",
      "8\n",
      "13\n",
      "21\n",
      "34\n"
     ]
    }
   ],
   "source": [
    "##first 10 Fibonacci numbers using while loop\n",
    "n=10\n",
    "x,y,z=0,1,1\n",
    "count=1\n",
    "print(\"Fibonacci series is\")\n",
    "while count<=n:\n",
    "    count+=1\n",
    "    print(x)\n",
    "    x=y\n",
    "    y=z\n",
    "    z=x+y"
   ]
  },
  {
   "cell_type": "markdown",
   "id": "502a1e8d-b8b9-4686-9044-85dd3b82b074",
   "metadata": {},
   "source": [
    "Question 7"
   ]
  },
  {
   "cell_type": "code",
   "execution_count": 21,
   "id": "1bd66412-0d91-4e0d-baf4-435ef0771ff7",
   "metadata": {},
   "outputs": [
    {
     "data": {
      "text/plain": [
       "['p', 'w', 's', 'k', 'i', 'l', 'l', 's']"
      ]
     },
     "execution_count": 21,
     "metadata": {},
     "output_type": "execute_result"
    }
   ],
   "source": [
    "string=\"pwskills\"\n",
    "[i for i in string]"
   ]
  },
  {
   "cell_type": "markdown",
   "id": "4601c604-298e-4e73-8fee-c6bbb690036c",
   "metadata": {},
   "source": [
    "Question 8"
   ]
  },
  {
   "cell_type": "code",
   "execution_count": 26,
   "id": "4099f288-e1fa-4812-a4c6-ef61a986ccb9",
   "metadata": {},
   "outputs": [],
   "source": [
    "lst=[i for i in range(1,101)]\n",
    "l1=[i for i in lst if i%2!=0]"
   ]
  },
  {
   "cell_type": "code",
   "execution_count": 25,
   "id": "296484ea-4df8-4ad6-bd4b-7bbf0c817278",
   "metadata": {
    "tags": []
   },
   "outputs": [
    {
     "name": "stdin",
     "output_type": "stream",
     "text": [
      "Enter a number 12221\n"
     ]
    },
    {
     "name": "stdout",
     "output_type": "stream",
     "text": [
      "Palindrome Number\n"
     ]
    }
   ],
   "source": [
    "##to check a palindrome number using while loop\n",
    "num=int(input(\"Enter a number\"))\n",
    "temp=num\n",
    "rev=0\n",
    "while num>0:\n",
    "    dig=num%10\n",
    "    rev=rev*10+dig\n",
    "    num=num//10\n",
    "if(temp==rev):\n",
    "    print(\"Palindrome Number\")\n",
    "else:\n",
    "    print(\"Not a Palindrome Number\")"
   ]
  },
  {
   "cell_type": "markdown",
   "id": "c3c46861-7e03-495f-87c7-64dfa211fa3d",
   "metadata": {
    "tags": []
   },
   "source": [
    "Question 9"
   ]
  },
  {
   "cell_type": "code",
   "execution_count": 30,
   "id": "823cecb3-a4a1-4dc0-9cde-cb9d8ee4e016",
   "metadata": {},
   "outputs": [],
   "source": [
    "lst=[i for i in range(1,101)]\n",
    "l1=[i for i in lst if i%2!=0]"
   ]
  },
  {
   "cell_type": "code",
   "execution_count": 31,
   "id": "e0423c8e-66cc-46a4-aac9-6536d120ed25",
   "metadata": {},
   "outputs": [
    {
     "data": {
      "text/plain": [
       "[1,\n",
       " 2,\n",
       " 3,\n",
       " 4,\n",
       " 5,\n",
       " 6,\n",
       " 7,\n",
       " 8,\n",
       " 9,\n",
       " 10,\n",
       " 11,\n",
       " 12,\n",
       " 13,\n",
       " 14,\n",
       " 15,\n",
       " 16,\n",
       " 17,\n",
       " 18,\n",
       " 19,\n",
       " 20,\n",
       " 21,\n",
       " 22,\n",
       " 23,\n",
       " 24,\n",
       " 25,\n",
       " 26,\n",
       " 27,\n",
       " 28,\n",
       " 29,\n",
       " 30,\n",
       " 31,\n",
       " 32,\n",
       " 33,\n",
       " 34,\n",
       " 35,\n",
       " 36,\n",
       " 37,\n",
       " 38,\n",
       " 39,\n",
       " 40,\n",
       " 41,\n",
       " 42,\n",
       " 43,\n",
       " 44,\n",
       " 45,\n",
       " 46,\n",
       " 47,\n",
       " 48,\n",
       " 49,\n",
       " 50,\n",
       " 51,\n",
       " 52,\n",
       " 53,\n",
       " 54,\n",
       " 55,\n",
       " 56,\n",
       " 57,\n",
       " 58,\n",
       " 59,\n",
       " 60,\n",
       " 61,\n",
       " 62,\n",
       " 63,\n",
       " 64,\n",
       " 65,\n",
       " 66,\n",
       " 67,\n",
       " 68,\n",
       " 69,\n",
       " 70,\n",
       " 71,\n",
       " 72,\n",
       " 73,\n",
       " 74,\n",
       " 75,\n",
       " 76,\n",
       " 77,\n",
       " 78,\n",
       " 79,\n",
       " 80,\n",
       " 81,\n",
       " 82,\n",
       " 83,\n",
       " 84,\n",
       " 85,\n",
       " 86,\n",
       " 87,\n",
       " 88,\n",
       " 89,\n",
       " 90,\n",
       " 91,\n",
       " 92,\n",
       " 93,\n",
       " 94,\n",
       " 95,\n",
       " 96,\n",
       " 97,\n",
       " 98,\n",
       " 99,\n",
       " 100]"
      ]
     },
     "execution_count": 31,
     "metadata": {},
     "output_type": "execute_result"
    }
   ],
   "source": [
    "lst"
   ]
  },
  {
   "cell_type": "code",
   "execution_count": 32,
   "id": "ff9b70ca-08df-498c-82cc-32634add047f",
   "metadata": {},
   "outputs": [
    {
     "data": {
      "text/plain": [
       "[1,\n",
       " 3,\n",
       " 5,\n",
       " 7,\n",
       " 9,\n",
       " 11,\n",
       " 13,\n",
       " 15,\n",
       " 17,\n",
       " 19,\n",
       " 21,\n",
       " 23,\n",
       " 25,\n",
       " 27,\n",
       " 29,\n",
       " 31,\n",
       " 33,\n",
       " 35,\n",
       " 37,\n",
       " 39,\n",
       " 41,\n",
       " 43,\n",
       " 45,\n",
       " 47,\n",
       " 49,\n",
       " 51,\n",
       " 53,\n",
       " 55,\n",
       " 57,\n",
       " 59,\n",
       " 61,\n",
       " 63,\n",
       " 65,\n",
       " 67,\n",
       " 69,\n",
       " 71,\n",
       " 73,\n",
       " 75,\n",
       " 77,\n",
       " 79,\n",
       " 81,\n",
       " 83,\n",
       " 85,\n",
       " 87,\n",
       " 89,\n",
       " 91,\n",
       " 93,\n",
       " 95,\n",
       " 97,\n",
       " 99]"
      ]
     },
     "execution_count": 32,
     "metadata": {},
     "output_type": "execute_result"
    }
   ],
   "source": [
    "l1"
   ]
  },
  {
   "cell_type": "code",
   "execution_count": null,
   "id": "8a4d7f97-a144-4cd4-9c06-2eb2b7869420",
   "metadata": {},
   "outputs": [],
   "source": []
  }
 ],
 "metadata": {
  "kernelspec": {
   "display_name": "Python 3 (ipykernel)",
   "language": "python",
   "name": "python3"
  },
  "language_info": {
   "codemirror_mode": {
    "name": "ipython",
    "version": 3
   },
   "file_extension": ".py",
   "mimetype": "text/x-python",
   "name": "python",
   "nbconvert_exporter": "python",
   "pygments_lexer": "ipython3",
   "version": "3.10.8"
  }
 },
 "nbformat": 4,
 "nbformat_minor": 5
}
