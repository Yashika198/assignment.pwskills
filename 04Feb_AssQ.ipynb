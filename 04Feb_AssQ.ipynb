{
 "cells": [
  {
   "cell_type": "markdown",
   "id": "f92baf35-4b67-40a1-ac5b-f2c287c72294",
   "metadata": {},
   "source": [
    "Question 1"
   ]
  },
  {
   "cell_type": "code",
   "execution_count": 1,
   "id": "d83ed925-0ff8-46dd-acbc-70bbd68b61e0",
   "metadata": {},
   "outputs": [],
   "source": [
    "players=[('Sachin Tendulkar',34357),('Ricky Ponting',27483),('Jack Kallis',25534),('Virat Kohli',24936)]"
   ]
  },
  {
   "cell_type": "code",
   "execution_count": 2,
   "id": "9e888e5c-9d5b-4cf3-a12d-8f2521c228f6",
   "metadata": {},
   "outputs": [
    {
     "data": {
      "text/plain": [
       "[('Virat Kohli', 24936),\n",
       " ('Jack Kallis', 25534),\n",
       " ('Ricky Ponting', 27483),\n",
       " ('Sachin Tendulkar', 34357)]"
      ]
     },
     "execution_count": 2,
     "metadata": {},
     "output_type": "execute_result"
    }
   ],
   "source": [
    "players.sort(key=lambda x:x[1])\n",
    "players"
   ]
  },
  {
   "cell_type": "code",
   "execution_count": 3,
   "id": "d56caf44-f560-4280-9e7b-74bd6442bcd0",
   "metadata": {},
   "outputs": [
    {
     "data": {
      "text/plain": [
       "[('Sachin Tendulkar', 34357),\n",
       " ('Ricky Ponting', 27483),\n",
       " ('Jack Kallis', 25534),\n",
       " ('Virat Kohli', 24936)]"
      ]
     },
     "execution_count": 3,
     "metadata": {},
     "output_type": "execute_result"
    }
   ],
   "source": [
    "players.sort(key=lambda x:x[1],reverse=True)\n",
    "players"
   ]
  },
  {
   "cell_type": "markdown",
   "id": "147725d9-9d2e-46e3-acbf-50c336228028",
   "metadata": {},
   "source": [
    "Question 2"
   ]
  },
  {
   "cell_type": "code",
   "execution_count": 7,
   "id": "0fd5fc77-30c6-496e-89a2-c2852a276fca",
   "metadata": {},
   "outputs": [
    {
     "data": {
      "text/plain": [
       "[1, 4, 9, 16, 25, 36, 49, 64, 81, 100]"
      ]
     },
     "execution_count": 7,
     "metadata": {},
     "output_type": "execute_result"
    }
   ],
   "source": [
    "##to find the squares of numbers\n",
    "l=[1,2,3,4,5,6,7,8,9,10]\n",
    "list(map(lambda x:x**2,l))"
   ]
  },
  {
   "cell_type": "markdown",
   "id": "3c244f02-cab1-4207-8080-b57114ebfd43",
   "metadata": {},
   "source": [
    "Question 3"
   ]
  },
  {
   "cell_type": "code",
   "execution_count": 9,
   "id": "df96c047-9b0b-4bb4-ae4c-402ba1284442",
   "metadata": {},
   "outputs": [
    {
     "data": {
      "text/plain": [
       "('1', '2', '3', '4', '5', '6', '7', '8', '9', '10')"
      ]
     },
     "execution_count": 9,
     "metadata": {},
     "output_type": "execute_result"
    }
   ],
   "source": [
    "##to convert into a tuple of strings\n",
    "lst=[1,2,3,4,5,6,7,8,9,10]\n",
    "tuple(map(lambda x:str(x),lst))"
   ]
  },
  {
   "cell_type": "markdown",
   "id": "8eaefd17-c595-4c56-9309-14a26dacbf7b",
   "metadata": {},
   "source": [
    "Question 4"
   ]
  },
  {
   "cell_type": "code",
   "execution_count": 13,
   "id": "94346d2b-46cc-4746-b4eb-4a85b5827762",
   "metadata": {},
   "outputs": [
    {
     "data": {
      "text/plain": [
       "15511210043330985984000000"
      ]
     },
     "execution_count": 13,
     "metadata": {},
     "output_type": "execute_result"
    }
   ],
   "source": [
    "##product of a list\n",
    "from functools import reduce\n",
    "l1=list(range(1,26))\n",
    "reduce(lambda x,y:x*y,l1)"
   ]
  },
  {
   "cell_type": "markdown",
   "id": "72976afb-e482-4e99-85c6-ffff36eeb791",
   "metadata": {},
   "source": [
    "Question 5"
   ]
  },
  {
   "cell_type": "code",
   "execution_count": 66,
   "id": "2d5e3b41-983f-4c91-8eb4-359754d5ae8e",
   "metadata": {},
   "outputs": [
    {
     "data": {
      "text/plain": [
       "[6, 60, 90, 120]"
      ]
     },
     "execution_count": 66,
     "metadata": {},
     "output_type": "execute_result"
    }
   ],
   "source": [
    "##to find the number divisible by 2 and 3\n",
    "l2=[2,3,6,9,27,60,90,120,55,46]\n",
    "list(filter(lambda x:x%2==0 and x%3==0,l2))"
   ]
  },
  {
   "cell_type": "code",
   "execution_count": 71,
   "id": "3c446e2d-2912-4052-bd98-e74455d91188",
   "metadata": {},
   "outputs": [],
   "source": [
    "##to find the number divisible by 2 and 3 using named function\n",
    "def div_test(x):\n",
    "    if x%2==0 and x%3==0:\n",
    "        return True"
   ]
  },
  {
   "cell_type": "code",
   "execution_count": 72,
   "id": "933ddaa2-eb1c-4836-8250-dae4d757ec9b",
   "metadata": {},
   "outputs": [],
   "source": [
    "l9=list(filter(div_test,l2))"
   ]
  },
  {
   "cell_type": "code",
   "execution_count": 73,
   "id": "a031a02b-043e-4c71-a3cd-1c9b7b8e7c15",
   "metadata": {},
   "outputs": [
    {
     "data": {
      "text/plain": [
       "[6, 60, 90, 120]"
      ]
     },
     "execution_count": 73,
     "metadata": {},
     "output_type": "execute_result"
    }
   ],
   "source": [
    "l9"
   ]
  },
  {
   "cell_type": "markdown",
   "id": "191506bf-96a2-485b-a032-e6d41efeb7c3",
   "metadata": {},
   "source": [
    "Question 6"
   ]
  },
  {
   "cell_type": "code",
   "execution_count": 74,
   "id": "db9d6c37-16ca-40fe-90f9-ace22a060cb6",
   "metadata": {},
   "outputs": [
    {
     "data": {
      "text/plain": [
       "['php', 'aba', 'radar', 'level']"
      ]
     },
     "execution_count": 74,
     "metadata": {},
     "output_type": "execute_result"
    }
   ],
   "source": [
    "l7=['python','php','aba','radar','level']\n",
    "list(filter(lambda x:x==x[::-1],l7))"
   ]
  },
  {
   "cell_type": "code",
   "execution_count": null,
   "id": "9f0d287b-ff4c-45a4-ac88-6b9a556d9971",
   "metadata": {},
   "outputs": [],
   "source": []
  }
 ],
 "metadata": {
  "kernelspec": {
   "display_name": "Python 3 (ipykernel)",
   "language": "python",
   "name": "python3"
  },
  "language_info": {
   "codemirror_mode": {
    "name": "ipython",
    "version": 3
   },
   "file_extension": ".py",
   "mimetype": "text/x-python",
   "name": "python",
   "nbconvert_exporter": "python",
   "pygments_lexer": "ipython3",
   "version": "3.10.8"
  }
 },
 "nbformat": 4,
 "nbformat_minor": 5
}
