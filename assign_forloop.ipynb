{
 "cells": [
  {
   "cell_type": "code",
   "execution_count": 25,
   "id": "761f5cae-a43f-4704-8fc9-18d8d39ebea7",
   "metadata": {},
   "outputs": [
    {
     "data": {
      "text/plain": [
       "'while loop is used when we have to check a condition.It repeats itself as long as its given condition is True'"
      ]
     },
     "execution_count": 25,
     "metadata": {},
     "output_type": "execute_result"
    }
   ],
   "source": [
    "#question 1\n",
    "\"\"\"for loop is used when we know how many times the loop is required to run\"\"\"\n",
    "\"\"\"while loop is used when we have to check a condition.It repeats itself as long as its given condition is True\"\"\""
   ]
  },
  {
   "cell_type": "code",
   "execution_count": 26,
   "id": "67e0cc25-d49c-4329-a813-f947b61389c2",
   "metadata": {},
   "outputs": [
    {
     "name": "stdout",
     "output_type": "stream",
     "text": [
      "factorial of 5 is 120\n"
     ]
    }
   ],
   "source": [
    "#question 1\n",
    "#for example to find factorial of a number\n",
    "#using for loop\n",
    "fact=1\n",
    "num=5\n",
    "for i in range(num):\n",
    "    fact=fact*num\n",
    "    num=num-1\n",
    "print(\"factorial of 5 is\",fact)"
   ]
  },
  {
   "cell_type": "code",
   "execution_count": 27,
   "id": "4b660062-3894-4b53-8514-0b7a64f9d62d",
   "metadata": {},
   "outputs": [
    {
     "name": "stdout",
     "output_type": "stream",
     "text": [
      "factorial of 5 is 120\n"
     ]
    }
   ],
   "source": [
    "#question 1\n",
    "#using while loop\n",
    "fact=1\n",
    "num=5\n",
    "while num>0:\n",
    "    fact=fact*num\n",
    "    num-=1\n",
    "print(\"factorial of 5 is\",fact)"
   ]
  },
  {
   "cell_type": "code",
   "execution_count": 28,
   "id": "6e507c98-da69-4b64-a1ea-93bf44542cbf",
   "metadata": {},
   "outputs": [
    {
     "name": "stdout",
     "output_type": "stream",
     "text": [
      "sum of first 10 natural numbers 55\n",
      "Product of first 10 natural numbers 3628800\n"
     ]
    }
   ],
   "source": [
    "#question 2\n",
    "#using for loop\n",
    "sum=0\n",
    "prod=1\n",
    "for i in range(1,11):\n",
    "    sum+=i\n",
    "    prod*=i\n",
    "print(\"sum of first 10 natural numbers\",sum)\n",
    "print(\"Product of first 10 natural numbers\",prod)"
   ]
  },
  {
   "cell_type": "code",
   "execution_count": 29,
   "id": "5de38d69-373f-45aa-aee1-3b5859db38de",
   "metadata": {},
   "outputs": [
    {
     "name": "stdout",
     "output_type": "stream",
     "text": [
      "sum of first 10 natural numbers 55\n",
      "Product of first 10 natural numbers 3628800\n"
     ]
    }
   ],
   "source": [
    "#question 2\n",
    "#using while loop\n",
    "num=10\n",
    "sum1=0\n",
    "prod1=1\n",
    "while num>0:\n",
    "    sum1+=num\n",
    "    prod1*=num\n",
    "    num=num-1\n",
    "print(\"sum of first 10 natural numbers\",sum1)\n",
    "print(\"Product of first 10 natural numbers\",prod1)"
   ]
  },
  {
   "cell_type": "code",
   "execution_count": 30,
   "id": "246133ac-7a86-455e-92d9-37dc04e15bbc",
   "metadata": {},
   "outputs": [
    {
     "name": "stdin",
     "output_type": "stream",
     "text": [
      "enter the number of units consumed in a month 310\n"
     ]
    },
    {
     "name": "stdout",
     "output_type": "stream",
     "text": [
      "2250.0\n"
     ]
    }
   ],
   "source": [
    "#question 3\n",
    "no_units=int(input(\"enter the number of units consumed in a month\"))\n",
    "if no_units<=100:\n",
    "    price=4.5*no_units\n",
    "elif(no_units<=200 and no_units>=100):\n",
    "    price=4.5*100+(no_units-100)*6\n",
    "elif(no_units<=300 and no_units>=200):\n",
    "    price=4.5*100+6*100+(no_units-200)*10\n",
    "elif no_units>300:\n",
    "      price=4.5*100+6*100+10*100+(no_units-300)*20\n",
    "print(price)"
   ]
  },
  {
   "cell_type": "code",
   "execution_count": 31,
   "id": "fa4c8853-96db-46fb-a4f0-4a983fff457f",
   "metadata": {},
   "outputs": [
    {
     "name": "stdout",
     "output_type": "stream",
     "text": [
      "[2, 4, 5, 6, 8, 10, 12, 14, 15, 16, 18, 20, 22, 24, 25, 26, 28, 30, 32, 34, 35, 36, 38, 40, 42, 44, 45, 46, 48, 50, 52, 54, 55, 56, 58, 60, 62, 64, 65, 66, 68, 70, 72, 74, 75, 76, 78, 80, 82, 84, 85, 86, 88, 90, 92, 94, 95, 96, 98, 100]\n",
      "[2, 4, 5, 6, 8, 10, 12, 14, 15, 16, 18, 20, 22, 24, 25, 26, 28, 30, 32, 34, 35, 36, 38, 40, 42, 44, 45, 46, 48, 50, 52, 54, 55, 56, 58, 60, 62, 64, 65, 66, 68, 70, 72, 74, 75, 76, 78, 80, 82, 84, 85, 86, 88, 90, 92, 94, 95, 96, 98, 100]\n"
     ]
    }
   ],
   "source": [
    "#question 4\n",
    "l1=[]\n",
    "l2=[]\n",
    "lst=list(range(1,101))\n",
    "#using for loop\n",
    "for i in lst:\n",
    "    cube=i**3\n",
    "    if cube%4==0 or cube%5==0:\n",
    "        l1.append(i)\n",
    "print(l1)\n",
    "j=0\n",
    "#using while loop\n",
    "while j<len(lst):\n",
    "    cub=lst[j]**3\n",
    "    if cub%4==0 or cub%5==0:\n",
    "        l2.append(lst[j])\n",
    "    j+=1\n",
    "print(l2)"
   ]
  },
  {
   "cell_type": "code",
   "execution_count": 68,
   "id": "626c0218-6102-4de1-b01d-ca618d100cd8",
   "metadata": {},
   "outputs": [
    {
     "data": {
      "text/plain": [
       "12"
      ]
     },
     "execution_count": 68,
     "metadata": {},
     "output_type": "execute_result"
    }
   ],
   "source": [
    "#question 5\n",
    "string=\"I want to become a data scientist\"\n",
    "count=0\n",
    "for i in string:\n",
    "    if i.lower() in ['a','e','i','o','u']:\n",
    "        count+=1\n",
    "count\n"
   ]
  },
  {
   "cell_type": "code",
   "execution_count": 70,
   "id": "b856e64a-07d9-436e-865e-c20ee878a7dc",
   "metadata": {},
   "outputs": [
    {
     "name": "stdout",
     "output_type": "stream",
     "text": [
      "count of vowels is 12\n"
     ]
    }
   ],
   "source": [
    "#or question 5\n",
    "cnt=0\n",
    "def count_vowels(string):\n",
    "    for j in string:\n",
    "        if j.lower() in ['a','e','i','o','u']:\n",
    "            return True\n",
    "string=\"I want to become a data scientist\"\n",
    "filter_vowel=filter(count_vowels,string)\n",
    "for i in filter_vowel:\n",
    "    cnt+=1\n",
    "print(\"count of vowels is\",cnt)"
   ]
  },
  {
   "cell_type": "code",
   "execution_count": 65,
   "id": "63c427f1-141d-4ca4-95e3-62daca886272",
   "metadata": {},
   "outputs": [],
   "source": [
    "\n"
   ]
  },
  {
   "cell_type": "code",
   "execution_count": null,
   "id": "f19f59b3-5607-46cd-8651-76241ba6e016",
   "metadata": {},
   "outputs": [],
   "source": []
  }
 ],
 "metadata": {
  "kernelspec": {
   "display_name": "Python 3 (ipykernel)",
   "language": "python",
   "name": "python3"
  },
  "language_info": {
   "codemirror_mode": {
    "name": "ipython",
    "version": 3
   },
   "file_extension": ".py",
   "mimetype": "text/x-python",
   "name": "python",
   "nbconvert_exporter": "python",
   "pygments_lexer": "ipython3",
   "version": "3.10.8"
  }
 },
 "nbformat": 4,
 "nbformat_minor": 5
}
